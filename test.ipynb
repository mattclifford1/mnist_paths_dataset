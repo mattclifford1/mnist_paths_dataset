{
 "cells": [
  {
   "cell_type": "code",
   "execution_count": 10,
   "id": "094a4b4f",
   "metadata": {},
   "outputs": [],
   "source": [
    "import matplotlib.pyplot as plt\n",
    "import numpy as np\n",
    "import pandas as pd\n",
    "from tqdm import tqdm\n",
    "from scipy.sparse import csr_matrix, csgraph\n",
    "\n",
    "from numba import jit\n",
    "import math"
   ]
  },
  {
   "cell_type": "code",
   "execution_count": 3,
   "id": "2de63eaf",
   "metadata": {},
   "outputs": [],
   "source": [
    "# Load the dataset\n",
    "# https://www.python-course.eu/neural_network_mnist.php\n",
    "image_size = 28  # width and length\n",
    "no_of_different_labels = 10  # i.e. 0, 1, 2, 3, ..., 9\n",
    "image_pixels = image_size * image_size\n",
    "data_path = \"mnist_data/mnist_train.csv\"\n",
    "# train_data = np.loadtxt(data_path, delimiter=\",\")\n",
    "# fac = 0.99 / 255\n",
    "# train_imgs = np.asfarray(train_data[:, 1:]) * fac + 0.01\n",
    "# train_ilabels = np.asfarray(train_data[:, :1]).ravel()\n",
    "\n",
    "train_data = pd.read_csv(data_path,\n",
    "                         delimiter=\",\", header=None, dtype=np.uint8)\n",
    "# divide by 255 only for model prediction\n",
    "train_imgs = train_data.iloc[:, 1:]/255\n",
    "train_imgs = train_imgs.astype(\"float32\")\n",
    "# train_imgs = train_data.iloc[:, 1:]\n",
    "train_labels = np.asarray(train_data.iloc[:, :1][0])"
   ]
  },
  {
   "cell_type": "code",
   "execution_count": 4,
   "id": "1dec3d14",
   "metadata": {},
   "outputs": [
    {
     "name": "stdout",
     "output_type": "stream",
     "text": [
      "10000\n"
     ]
    }
   ],
   "source": [
    "# subsample the original dataset, each digit has 1000 instances rather than 5000-6000\n",
    "\n",
    "all_indices = []\n",
    "# for digit in [0, 1, 2, 4, 7, 8, 9]:\n",
    "for digit in np.arange(0, 10):\n",
    "    single_digit_indices = set(np.where(train_labels == digit)[0][:1000])\n",
    "    all_indices = set(all_indices).union(single_digit_indices)\n",
    "print(len(all_indices))\n",
    "\n",
    "X = train_imgs.iloc[list(all_indices), :]\n",
    "y = train_labels[list(all_indices)]"
   ]
  },
  {
   "cell_type": "code",
   "execution_count": 8,
   "id": "c548b700",
   "metadata": {},
   "outputs": [],
   "source": [
    "@jit(nopython=True)\n",
    "def calculate_weighted_distance(v0, v1, penalty_term=2):\n",
    "    diff = np.subtract(v0, v1)\n",
    "    reweight_vector = np.where(diff >= 0, 1, -penalty_term)\n",
    "    weighted_diff = np.linalg.norm(diff*reweight_vector)\n",
    "    return weighted_diff\n",
    "\n",
    "\n",
    "def get_weights_kNN(\n",
    "    X,\n",
    "    n_neighbours=20,\n",
    "    penalty_term=2,\n",
    "    weight_func=None\n",
    "):\n",
    "    n_samples, n_ftrs = X.shape\n",
    "\n",
    "    k = np.zeros((n_samples, n_samples))\n",
    "    W = k\n",
    "    X = X.to_numpy()\n",
    "\n",
    "    for i in tqdm(range(n_samples)):\n",
    "        v0 = X[i]\n",
    "        for j in range(n_samples):\n",
    "            v1 = X[j]\n",
    "            # modify the distance function so that removing pixels incurring larger cost.\n",
    "            dist = calculate_weighted_distance(\n",
    "                v1, v0, penalty_term=penalty_term)\n",
    "            # dist = np.linalg.norm(v0 - v1)\n",
    "            k[i, j] = dist\n",
    "            if dist != 0:\n",
    "                W[i, j] = weight_func(dist)\n",
    "\n",
    "        t = np.argsort(k[i, :])[(n_neighbours+1):]\n",
    "        mask = np.ix_(t)\n",
    "        k[i, mask] = 0\n",
    "        W[i, mask] = 0\n",
    "\n",
    "    return W"
   ]
  },
  {
   "cell_type": "code",
   "execution_count": 9,
   "id": "4e5e1ddf",
   "metadata": {},
   "outputs": [],
   "source": [
    "def construct_graph(weight_matrix):\n",
    "    graph = csr_matrix(weight_matrix)\n",
    "    return graph\n",
    "\n",
    "\n",
    "def find_shortest_path(graph, start_point_idx):\n",
    "    dist_matrix, predecessors = csgraph.dijkstra(\n",
    "        csgraph=graph, directed=True, indices=start_point_idx, return_predecessors=True\n",
    "    )\n",
    "    return dist_matrix, predecessors\n",
    "\n",
    "\n",
    "def reconstruct_shortest_path(predecessors, start_point_idx, end_point_idx):\n",
    "    \"\"\"Get all the nodes along the path between the start point and the end point. \n",
    "\n",
    "    Args:\n",
    "        predecessors (matrix of shape (1, n_nodes)): contain the previous node in the path.\n",
    "        start_point_idx (int): the index of the start data point\n",
    "        end_point_idx (int): the index of the end data point\n",
    "\n",
    "    Returns:\n",
    "        node_path (list): [start_point_idx, intermedium points index, end_point_idx]\n",
    "    \"\"\"\n",
    "    if predecessors[end_point_idx] == start_point_idx:\n",
    "        node_path = [end_point_idx]\n",
    "    else:\n",
    "        node_path = []\n",
    "    intermedium_idx = end_point_idx\n",
    "    while (predecessors[intermedium_idx] != start_point_idx):\n",
    "        node_path.append(intermedium_idx)\n",
    "        intermedium_idx = predecessors[intermedium_idx]\n",
    "    if intermedium_idx != node_path[-1]:\n",
    "        node_path.append(intermedium_idx)\n",
    "    node_path.append(start_point_idx)\n",
    "\n",
    "    return node_path[::-1]\n",
    "\n",
    "\n",
    "def build_symmetric_matrix(kernel):\n",
    "    for i in range(kernel.shape[0]):\n",
    "        for j in range(i):\n",
    "            kernel[j, i] = kernel[i, j]\n",
    "    return kernel\n",
    "\n",
    "\n",
    "def build_asymmetric_matrix(kernel, X, weight_func, penalty_term):\n",
    "    n_samples = kernel.shape[0]\n",
    "    X = X.to_numpy()\n",
    "    for i in tqdm(range(n_samples)):\n",
    "        for j in range(n_samples):\n",
    "            if kernel[i, j] != 0:\n",
    "                v0 = X[i]\n",
    "                v1 = X[j]\n",
    "                dist = calculate_weighted_distance(\n",
    "                    v0, v1, penalty_term=penalty_term)\n",
    "                kernel[j, i] = weight_func(dist)\n",
    "    return kernel"
   ]
  },
  {
   "cell_type": "code",
   "execution_count": 11,
   "id": "9b879caf",
   "metadata": {},
   "outputs": [
    {
     "name": "stderr",
     "output_type": "stream",
     "text": [
      " 12%|█▏        | 1237/10000 [01:51<13:07, 11.13it/s]\n"
     ]
    },
    {
     "ename": "KeyboardInterrupt",
     "evalue": "",
     "output_type": "error",
     "traceback": [
      "\u001b[31m---------------------------------------------------------------------------\u001b[39m",
      "\u001b[31mKeyboardInterrupt\u001b[39m                         Traceback (most recent call last)",
      "\u001b[36mCell\u001b[39m\u001b[36m \u001b[39m\u001b[32mIn[11]\u001b[39m\u001b[32m, line 20\u001b[39m\n\u001b[32m     13\u001b[39m \u001b[38;5;66;03m# Construct the global weighted graph.\u001b[39;00m\n\u001b[32m     14\u001b[39m \u001b[38;5;66;03m# Kernel is asymmetric if using KNN to get weight, and OG only keeps the bottom left half of the matrix\u001b[39;00m\n\u001b[32m     17\u001b[39m \u001b[38;5;28;01mdef\u001b[39;00m\u001b[38;5;250m \u001b[39m\u001b[34mweight_func\u001b[39m(x): \u001b[38;5;28;01mreturn\u001b[39;00m -x*np.log(r/x)  \u001b[38;5;66;03m# x**alpha\u001b[39;00m\n\u001b[32m---> \u001b[39m\u001b[32m20\u001b[39m kernel = \u001b[43mget_weights_kNN\u001b[49m\u001b[43m(\u001b[49m\n\u001b[32m     21\u001b[39m \u001b[43m    \u001b[49m\u001b[43mX\u001b[49m\u001b[43m,\u001b[49m\n\u001b[32m     22\u001b[39m \u001b[43m    \u001b[49m\u001b[43mpenalty_term\u001b[49m\u001b[43m=\u001b[49m\u001b[43mpenalty_term\u001b[49m\u001b[43m,\u001b[49m\n\u001b[32m     23\u001b[39m \u001b[43m    \u001b[49m\u001b[43mn_neighbours\u001b[49m\u001b[43m=\u001b[49m\u001b[38;5;28;43mint\u001b[39;49m\u001b[43m(\u001b[49m\u001b[43mn_neighbours\u001b[49m\u001b[43m)\u001b[49m\u001b[43m,\u001b[49m\n\u001b[32m     24\u001b[39m \u001b[43m    \u001b[49m\u001b[43mweight_func\u001b[49m\u001b[43m=\u001b[49m\u001b[43mweight_func\u001b[49m\n\u001b[32m     25\u001b[39m \u001b[43m)\u001b[49m\n",
      "\u001b[36mCell\u001b[39m\u001b[36m \u001b[39m\u001b[32mIn[8]\u001b[39m\u001b[32m, line 31\u001b[39m, in \u001b[36mget_weights_kNN\u001b[39m\u001b[34m(X, n_neighbours, penalty_term, weight_func)\u001b[39m\n\u001b[32m     29\u001b[39m     k[i, j] = dist\n\u001b[32m     30\u001b[39m     \u001b[38;5;28;01mif\u001b[39;00m dist != \u001b[32m0\u001b[39m:\n\u001b[32m---> \u001b[39m\u001b[32m31\u001b[39m         W[i, j] = \u001b[43mweight_func\u001b[49m\u001b[43m(\u001b[49m\u001b[43mdist\u001b[49m\u001b[43m)\u001b[49m\n\u001b[32m     33\u001b[39m t = np.argsort(k[i, :])[(n_neighbours+\u001b[32m1\u001b[39m):]\n\u001b[32m     34\u001b[39m mask = np.ix_(t)\n",
      "\u001b[36mCell\u001b[39m\u001b[36m \u001b[39m\u001b[32mIn[11]\u001b[39m\u001b[32m, line 17\u001b[39m, in \u001b[36mweight_func\u001b[39m\u001b[34m(x)\u001b[39m\n\u001b[32m---> \u001b[39m\u001b[32m17\u001b[39m \u001b[38;5;28;01mdef\u001b[39;00m\u001b[38;5;250m \u001b[39m\u001b[34mweight_func\u001b[39m(x): \u001b[38;5;28;01mreturn\u001b[39;00m -x*np.log(r/x)\n",
      "\u001b[31mKeyboardInterrupt\u001b[39m: "
     ]
    }
   ],
   "source": [
    "n_neighbours = 20\n",
    "penalty_term = 1.1\n",
    "n_samples, n_features = X.shape\n",
    "\n",
    "\n",
    "def get_volume_of_sphere(d):\n",
    "    return math.pi**(d/2)/math.gamma(d/2 + 1)\n",
    "\n",
    "\n",
    "volume_sphere = get_volume_of_sphere(1)\n",
    "r = (n_neighbours / (n_samples * volume_sphere))\n",
    "\n",
    "# Construct the global weighted graph.\n",
    "# Kernel is asymmetric if using KNN to get weight, and OG only keeps the bottom left half of the matrix\n",
    "\n",
    "\n",
    "def weight_func(x): return -x*np.log(r/x)  # x**alpha\n",
    "\n",
    "\n",
    "kernel = get_weights_kNN(\n",
    "    X,\n",
    "    penalty_term=penalty_term,\n",
    "    n_neighbours=int(n_neighbours),\n",
    "    weight_func=weight_func\n",
    ")"
   ]
  },
  {
   "cell_type": "code",
   "execution_count": null,
   "id": "120078e9",
   "metadata": {},
   "outputs": [],
   "source": []
  }
 ],
 "metadata": {
  "kernelspec": {
   "display_name": "mnist_paths",
   "language": "python",
   "name": "python3"
  },
  "language_info": {
   "codemirror_mode": {
    "name": "ipython",
    "version": 3
   },
   "file_extension": ".py",
   "mimetype": "text/x-python",
   "name": "python",
   "nbconvert_exporter": "python",
   "pygments_lexer": "ipython3",
   "version": "3.12.11"
  }
 },
 "nbformat": 4,
 "nbformat_minor": 5
}
